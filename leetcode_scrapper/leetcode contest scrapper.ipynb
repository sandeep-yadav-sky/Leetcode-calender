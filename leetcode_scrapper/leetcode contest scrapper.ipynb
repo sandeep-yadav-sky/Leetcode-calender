{
 "cells": [
  {
   "cell_type": "code",
   "execution_count": 97,
   "metadata": {},
   "outputs": [],
   "source": [
    "from bs4 import BeautifulSoup\n",
    "from apiclient.discovery import build\n",
    "from google_auth_oauthlib.flow import InstalledAppFlow\n",
    "import requests\n",
    "import pickle\n",
    "scopes = ['https://www.googleapis.com/auth/calendar']\n",
    "flow = InstalledAppFlow.from_client_secrets_file(\"client_secret.json\", scopes=scopes)"
   ]
  },
  {
   "cell_type": "code",
   "execution_count": 98,
   "metadata": {},
   "outputs": [],
   "source": [
    "if os.path.exists('token.pkl'):\n",
    "    credentials = pickle.load(open(\"token.pkl\",\"rb\"))\n",
    "else:\n",
    "    credentials=flow.run_console()\n",
    "    pickle.dump(credentials, open(\"token.pkl\", \"wb\"))\n",
    "    credentials = pickle.load(open(\"token.pkl\",\"rb\"))\n",
    "service = build(\"calendar\", \"v3\", credentials = credentials)\n",
    "result = service.calendarList().list().execute()"
   ]
  },
  {
   "cell_type": "code",
   "execution_count": 99,
   "metadata": {},
   "outputs": [],
   "source": [
    "idc = '9ahl9nu5h247gso88oh15qkp64@group.calendar.google.com'\n",
    "events_result = service.events().list(calendarId=idc).execute()\n",
    "events = events_result.get('items', [])"
   ]
  },
  {
   "cell_type": "code",
   "execution_count": 100,
   "metadata": {},
   "outputs": [],
   "source": [
    "from datetime import datetime\n",
    "from pytz import timezone\n",
    "url = requests.get('https://kontests.net/api/v1/leet_code').json()\n",
    "\n",
    "new_event = {\n",
    "    'summary': 'leetcode contest',\n",
    "  'start': {\n",
    "    'dateTime': '2015-05-28T09:00:00-07:00',\n",
    "    'timeZone': 'America/Los_Angeles',\n",
    "  },\n",
    "  'end': {\n",
    "    'dateTime': '2015-05-28T17:00:00-07:00',\n",
    "    'timeZone': 'America/Los_Angeles',\n",
    "  },\n",
    "  'reminders': {\n",
    "    'useDefault': True,\n",
    "  },\n",
    "    'source': {\n",
    "        'url': 'https://leetcode.com/contest/weekly-contest-236',\n",
    "        'title': 'Weekly Contest 236'\n",
    "    }\n",
    "}\n",
    "for contest in url:\n",
    "    new_event['start']['dateTime'] = contest['start_time']\n",
    "    new_event['end']['dateTime'] = contest['end_time']\n",
    "    new_event['source']['url'] = contest['url']\n",
    "    new_event['source']['title'] = contest['name']\n",
    "    new_event['summary'] = 'Leetcode ' + contest['name']\n",
    "    flag = 0\n",
    "    for existing_event in events:\n",
    "        if(new_event['summary'] == existing_event['summary']):\n",
    "            flag=1\n",
    "            break;\n",
    "    if(flag == 0):\n",
    "        service.events().insert(calendarId = idc, body = new_event).execute()"
   ]
  },
  {
   "cell_type": "code",
   "execution_count": 101,
   "metadata": {},
   "outputs": [],
   "source": [
    "# for contest in url:\n",
    "#     print(contest)"
   ]
  },
  {
   "cell_type": "code",
   "execution_count": 102,
   "metadata": {},
   "outputs": [],
   "source": [
    "# event = {\n",
    "#     'summary': 'hello',\n",
    "#   'start': {\n",
    "#     'dateTime': '2021-04-17T16:30:00.000Z',\n",
    "#     'timeZone': 'America/Los_Angeles',\n",
    "#   },\n",
    "#   'end': {\n",
    "#     'dateTime': '2021-04-17T18:00:00.000Z',\n",
    "#     'timeZone': 'America/Los_Angeles',\n",
    "#   },\n",
    "#   'reminders': {\n",
    "#     'useDefault': True,\n",
    "#   },\n",
    "#     'source': {\n",
    "#         'url': 'https://leetcode.com/contest/weekly-contest-236',\n",
    "#         'title': 'Weekly Contest 236'\n",
    "#     }\n",
    "# }\n",
    "# service.events().insert(calendarId = idc, body = event).execute()"
   ]
  },
  {
   "cell_type": "code",
   "execution_count": null,
   "metadata": {},
   "outputs": [],
   "source": []
  }
 ],
 "metadata": {
  "kernelspec": {
   "display_name": "Python 3",
   "language": "python",
   "name": "python3"
  },
  "language_info": {
   "codemirror_mode": {
    "name": "ipython",
    "version": 3
   },
   "file_extension": ".py",
   "mimetype": "text/x-python",
   "name": "python",
   "nbconvert_exporter": "python",
   "pygments_lexer": "ipython3",
   "version": "3.8.5"
  }
 },
 "nbformat": 4,
 "nbformat_minor": 4
}
